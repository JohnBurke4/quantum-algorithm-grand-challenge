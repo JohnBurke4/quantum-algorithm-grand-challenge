{
 "cells": [
  {
   "attachments": {},
   "cell_type": "markdown",
   "metadata": {},
   "source": [
    "# Tutorial for sampling using Qiskit\n",
    "In this tutorial, we will look at tutorials of implementations using **Qiskit**. Participants are recommended to read the `sampling.ipynb` beforehand.\n",
    "\n",
    "The sampling function which we provided supports input of **Qiskit circuits** and **operators**. Let's actually implement it."
   ]
  },
  {
   "attachments": {},
   "cell_type": "markdown",
   "metadata": {},
   "source": [
    "## ChallengeSampling"
   ]
  },
  {
   "cell_type": "code",
   "execution_count": 3,
   "metadata": {},
   "outputs": [],
   "source": [
    "import sys\n",
    "\n",
    "sys.path.append(\"../\")\n",
    "from utils.challenge_2023 import ChallengeSampling\n",
    "\n",
    "# define challenge_sampling with or without noise\n",
    "challenge_sampling = ChallengeSampling(noise=True)"
   ]
  },
  {
   "attachments": {},
   "cell_type": "markdown",
   "metadata": {},
   "source": [
    "### Prepare a Qiskit circuit"
   ]
  },
  {
   "cell_type": "code",
   "execution_count": 4,
   "metadata": {},
   "outputs": [
    {
     "data": {
      "text/plain": [
       "<qiskit.circuit.instructionset.InstructionSet at 0x12c8c9de0>"
      ]
     },
     "execution_count": 4,
     "metadata": {},
     "output_type": "execute_result"
    }
   ],
   "source": [
    "from qiskit import QuantumCircuit as QiskitQuantumCircuit\n",
    "from math import pi\n",
    "\n",
    "qiskit_circuit = QiskitQuantumCircuit(4)\n",
    "qiskit_circuit.x(0)\n",
    "qiskit_circuit.h(1)\n",
    "qiskit_circuit.y(2)\n",
    "qiskit_circuit.cx(1, 2)\n",
    "qiskit_circuit.rx(pi/4, 3)"
   ]
  },
  {
   "attachments": {},
   "cell_type": "markdown",
   "metadata": {},
   "source": [
    "# Sampler\n",
    " By using the instance challenge_sampling, you can construct the sampler. This sampler can take Qiksit circuits as input."
   ]
  },
  {
   "cell_type": "code",
   "execution_count": 5,
   "metadata": {},
   "outputs": [
    {
     "name": "stdout",
     "output_type": "stream",
     "text": [
      "counts: Counter({5: 426, 3: 414, 11: 52, 13: 51, 7: 20, 1: 16, 15: 5, 2: 5, 4: 5, 10: 2, 9: 2, 0: 1, 12: 1})\n"
     ]
    }
   ],
   "source": [
    "# choose hardware type\n",
    "hardware_type = \"sc\"\n",
    "\n",
    "# create sampler\n",
    "sampler = challenge_sampling.create_sampler(hardware_type)\n",
    "# possible to choose Qiksit circuits as an input\n",
    "sampling_result = sampler(qiskit_circuit, n_shots=1000)\n",
    "print(f\"counts: {sampling_result}\")"
   ]
  },
  {
   "attachments": {},
   "cell_type": "markdown",
   "metadata": {},
   "source": [
    "A sampler receives two arguments: a circuit to be sampled and a number of repeated samplings (shots). The returned value is a mapping (dict) with the following keys and values:\n",
    "\n",
    "- **Keys** Bitstrings of measurement outcomes, encoded as int. Each measured bit of each qubit are ordered from the least significant bit to the most significant bit. For example, when qubit 0 and qubit 2 are measured to be in  while the others are in , the bitstring is 0b0101.\n",
    "\n",
    "- **Values** Counts of times for which each bitstring is measured. A sum of all counts is equal to the specified shots."
   ]
  },
  {
   "attachments": {},
   "cell_type": "markdown",
   "metadata": {},
   "source": [
    "## Concurrent sampler\n",
    "The concurrent sampler can take Qiksit circuits as input as same as the usual sampler."
   ]
  },
  {
   "cell_type": "code",
   "execution_count": 9,
   "metadata": {},
   "outputs": [
    {
     "name": "stdout",
     "output_type": "stream",
     "text": [
      "concurrent_counts: [Counter({3: 434, 5: 311, 11: 121, 13: 81, 7: 17, 1: 11, 2: 8, 4: 7, 9: 6, 15: 3, 6: 1}), Counter({2: 476, 4: 333, 6: 102, 0: 85, 10: 2, 3: 1, 7: 1})]\n"
     ]
    }
   ],
   "source": [
    "# another circuit with 4 qubits\n",
    "qiskit_circuit2 = QiskitQuantumCircuit(4)\n",
    "qiskit_circuit2.t(0)\n",
    "qiskit_circuit2.h(1)\n",
    "qiskit_circuit2.ry(3*pi/4, 2)\n",
    "qiskit_circuit2.cx(1, 2)\n",
    "qiskit_circuit2.rz(pi, 3)\n",
    "\n",
    "# create concurrent sampler\n",
    "concurrent_sampler = challenge_sampling.create_concurrent_sampler(hardware_type)\n",
    "concurrent_counts = concurrent_sampler([(qiskit_circuit, 1000), (qiskit_circuit2, 1000)])\n",
    "\n",
    "print(f\"concurrent_counts: {concurrent_counts}\")"
   ]
  },
  {
   "attachments": {},
   "cell_type": "markdown",
   "metadata": {},
   "source": [
    "# Sampling Estimator\n",
    "In order to estimate an expectation value of operators involves operators and states, you need to use a sampling_estimator. You can construct the concurrent sampler as same as the usual sampler with some additional inputs. \n",
    "\n",
    "The sampling_estimator can take Qiksit circuits and Qiskit operators as inputs. First we define a qiskit operator to be estimated."
   ]
  },
  {
   "cell_type": "code",
   "execution_count": 6,
   "metadata": {},
   "outputs": [
    {
     "name": "stdout",
     "output_type": "stream",
     "text": [
      "0.25 * ZIII\n",
      "+ 2.0 * IZZI\n",
      "+ (0.5+0.25j) * IXXI\n",
      "+ 1j * IZIY\n",
      "+ (1.5+0.5j) * IIZY\n",
      "+ 2j * IXIY\n",
      "+ 3.0 * IIII\n",
      "(0.25+1.22j) * ZIII\n",
      "+ 1.4 * IZZI\n",
      "+ 0.2 * IIZZ\n"
     ]
    }
   ],
   "source": [
    "# define a qiskit operator to be estimated\n",
    "from qiskit.quantum_info import Pauli, SparsePauliOp\n",
    "from qiskit.opflow import PauliSumOp\n",
    "\n",
    "\n",
    "qiskit_paulisumop = PauliSumOp(primitive=SparsePauliOp(Pauli(\"ZIII\")), coeff=0.25)\n",
    "qiskit_paulisumop += PauliSumOp(primitive=SparsePauliOp(Pauli(\"IZZI\")), coeff=2.0)\n",
    "qiskit_paulisumop += PauliSumOp(primitive=SparsePauliOp(Pauli(\"IXXI\")), coeff=0.5 + 0.25j)\n",
    "qiskit_paulisumop += PauliSumOp(primitive=SparsePauliOp(Pauli(\"IZIY\")), coeff=1.0j)\n",
    "qiskit_paulisumop += PauliSumOp(primitive=SparsePauliOp(Pauli(\"IIZY\")), coeff=1.5 + 0.5j)\n",
    "qiskit_paulisumop += PauliSumOp(primitive=SparsePauliOp(Pauli(\"IXIY\")), coeff=2.0j)\n",
    "qiskit_paulisumop += PauliSumOp(primitive=SparsePauliOp(Pauli(\"IIII\")), coeff=3.0)\n",
    "print(qiskit_paulisumop)\n",
    "\n",
    "\n",
    "qiskit_paulisumop2 = PauliSumOp(primitive=SparsePauliOp(Pauli(\"ZIII\")), coeff=0.25 + 1.22j)\n",
    "qiskit_paulisumop2 += PauliSumOp(primitive=SparsePauliOp(Pauli(\"IZZI\")), coeff=1.4)\n",
    "qiskit_paulisumop2 += PauliSumOp(primitive=SparsePauliOp(Pauli(\"IIZZ\")), coeff=0.2)\n",
    "print(qiskit_paulisumop2)"
   ]
  },
  {
   "attachments": {},
   "cell_type": "markdown",
   "metadata": {},
   "source": [
    "### Converting operator and circuits directly to quri_parts hamiltonian and circuits\n",
    "You can convert qiskit operator and circuit directly using operator_from_qiskit_op and circuit_from_qiskit, respectively. Examples are shown below."
   ]
  },
  {
   "cell_type": "code",
   "execution_count": 10,
   "metadata": {},
   "outputs": [],
   "source": [
    "from quri_parts.qiskit.circuit import circuit_from_qiskit\n",
    "from quri_parts.qiskit.operator import operator_from_qiskit_op\n",
    "\n",
    "##: prepare qiskit operator\n",
    "qp_op = operator_from_qiskit_op(pauli_operator=qiskit_paulisumop)\n",
    "qp_op2 = operator_from_qiskit_op(pauli_operator=qiskit_paulisumop2)\n",
    "\n",
    "##: prepare circuit\n",
    "qp_circuit = circuit_from_qiskit(qiskit_circuit=qiskit_circuit)\n",
    "qp_circuit2 = circuit_from_qiskit(qiskit_circuit=qiskit_circuit2)"
   ]
  },
  {
   "attachments": {},
   "cell_type": "markdown",
   "metadata": {},
   "source": [
    "## Pauli grouping\n",
    "The operator is represented as a sum of Pauli operators. One of the ways to estimate expectation value of such an operator is to estimate expectation value of each Pauli term and then sum up them.\n",
    "\n",
    "When estimating the Pauli terms, it is possible to measure multiple Pauli terms at once if they are commutable. The first step is thus to group the Pauli terms into several sets of commutable Pauli terms. This Pauli grouping is an important research subject in context of operator estimation.\n",
    "\n",
    "One of the simplest Pauli grouping is bitwise grouping, where the groups are determined based on bitwise commutability of the Pauli terms. We can test the grouping as follows:"
   ]
  },
  {
   "cell_type": "code",
   "execution_count": 11,
   "metadata": {},
   "outputs": [
    {
     "name": "stdout",
     "output_type": "stream",
     "text": [
      "Number of groups: 5\n",
      "Group 0 contains: X1 Y3\n",
      "Group 1 contains: I\n",
      "Group 2 contains: X1 X2\n",
      "Group 3 contains: Z0, Z1 Z2\n",
      "Group 4 contains: Z2 Y3, Z1 Y3\n"
     ]
    }
   ],
   "source": [
    "from quri_parts.core.operator.grouping import bitwise_pauli_grouping\n",
    "pauli_sets = bitwise_pauli_grouping(qp_op)\n",
    "print(f\"Number of groups: {len(pauli_sets)}\")\n",
    "for i, pauli_set in enumerate(pauli_sets):\n",
    "    labels = \", \".join([str(pauli) for pauli in pauli_set])\n",
    "    print(f\"Group {i} contains: {labels}\")"
   ]
  },
  {
   "attachments": {},
   "cell_type": "markdown",
   "metadata": {},
   "source": [
    "## Shot allocator\n",
    "Another input necessary for estimation is PauliSamplingShotsAllocator: it specifies how total sampling shots should be allocated to measurement of each Pauli sets. There are several allocators available:"
   ]
  },
  {
   "cell_type": "code",
   "execution_count": 12,
   "metadata": {},
   "outputs": [],
   "source": [
    "from quri_parts.core.sampling.shots_allocator import (\n",
    "    create_equipartition_shots_allocator,\n",
    "    create_proportional_shots_allocator,\n",
    "    create_weighted_random_shots_allocator,\n",
    ")\n",
    "# Allocates shots equally among the Pauli sets\n",
    "allocator = create_equipartition_shots_allocator()\n",
    "# Allocates shots proportional to Pauli coefficients in the operator\n",
    "allocator = create_proportional_shots_allocator()\n",
    "# Allocates shots using random weights\n",
    "allocator = create_weighted_random_shots_allocator(seed=777)"
   ]
  },
  {
   "attachments": {},
   "cell_type": "markdown",
   "metadata": {},
   "source": [
    "### Estimate expectation value by sampling\n",
    "With these inputs and qiskit operators and qiskit circuits, sampling estimation can be performed as follows:"
   ]
  },
  {
   "cell_type": "code",
   "execution_count": 13,
   "metadata": {},
   "outputs": [
    {
     "name": "stdout",
     "output_type": "stream",
     "text": [
      "estimated_value :1.1620000000000004 \n"
     ]
    }
   ],
   "source": [
    "from quri_parts.core.measurement import bitwise_commuting_pauli_measurement\n",
    "\n",
    "shots_allocator = create_equipartition_shots_allocator()\n",
    "measurement_factory = bitwise_commuting_pauli_measurement\n",
    "n_shots = 10000\n",
    "\n",
    "# returns estimated value using above inputs\n",
    "estimated_value = challenge_sampling.sampling_estimator(\n",
    "    operator=qiskit_paulisumop,\n",
    "    state_or_circuit=qiskit_circuit,\n",
    "    n_shots=10000,\n",
    "    measurement_factory=measurement_factory,\n",
    "    shots_allocator=shots_allocator,\n",
    "    hardware_type=\"sc\",\n",
    ")\n",
    "\n",
    "# returns real part of estimated value\n",
    "print(f\"estimated_value :{estimated_value.value.real} \")"
   ]
  },
  {
   "attachments": {},
   "cell_type": "markdown",
   "metadata": {},
   "source": [
    "You can also construct the concurrent sampling_estimator as follows:"
   ]
  },
  {
   "cell_type": "code",
   "execution_count": 14,
   "metadata": {},
   "outputs": [
    {
     "name": "stdout",
     "output_type": "stream",
     "text": [
      "concurrent_estimated_value :(1.5271999999999997, -0.77305) \n"
     ]
    }
   ],
   "source": [
    "# create concurrent sampling estimator\n",
    "concurrent_estimated_value = challenge_sampling.concurrent_sampling_estimator(\n",
    "    operators=[qiskit_paulisumop, qiskit_paulisumop2],\n",
    "    states=[qiskit_circuit, qiskit_circuit2],\n",
    "    total_shots=10000,\n",
    "    measurement_factory=measurement_factory,\n",
    "    shots_allocator=shots_allocator,\n",
    "    hardware_type=\"sc\",\n",
    ")\n",
    "\n",
    "\n",
    "print(f\"concurrent_estimated_value :{concurrent_estimated_value[0].value.real, concurrent_estimated_value[1].value.real} \")"
   ]
  }
 ],
 "metadata": {
  "kernelspec": {
   "display_name": "Python 3",
   "language": "python",
   "name": "python3"
  },
  "language_info": {
   "codemirror_mode": {
    "name": "ipython",
    "version": 3
   },
   "file_extension": ".py",
   "mimetype": "text/x-python",
   "name": "python",
   "nbconvert_exporter": "python",
   "pygments_lexer": "ipython3",
   "version": "3.11.2"
  },
  "orig_nbformat": 4,
  "vscode": {
   "interpreter": {
    "hash": "b0fa6594d8f4cbf19f97940f81e996739fb7646882a419484c72d19e05852a7e"
   }
  }
 },
 "nbformat": 4,
 "nbformat_minor": 2
}
